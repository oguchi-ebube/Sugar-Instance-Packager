{
  "nbformat": 4,
  "nbformat_minor": 0,
  "metadata": {
    "colab": {
      "name": "SVM.ipynb",
      "provenance": [],
      "collapsed_sections": [],
      "include_colab_link": true
    },
    "kernelspec": {
      "name": "python3",
      "display_name": "Python 3"
    },
    "accelerator": "TPU"
  },
  "cells": [
    {
      "cell_type": "markdown",
      "metadata": {
        "id": "view-in-github",
        "colab_type": "text"
      },
      "source": [
        "<a href=\"https://colab.research.google.com/github/oguchi-ebube/Sugar-Instance-Packager/blob/master/SVM.ipynb\" target=\"_parent\"><img src=\"https://colab.research.google.com/assets/colab-badge.svg\" alt=\"Open In Colab\"/></a>"
      ]
    },
    {
      "cell_type": "code",
      "metadata": {
        "id": "0oixZzeOtlF6",
        "colab_type": "code",
        "outputId": "3594ef12-a732-40fd-8c73-2d3c9d7bb2ee",
        "colab": {
          "base_uri": "https://localhost:8080/",
          "height": 34
        }
      },
      "source": [
        "# Run this cell to mount your Google Drive.\n",
        "from google.colab import drive\n",
        "drive.mount('/content/drive')"
      ],
      "execution_count": 3,
      "outputs": [
        {
          "output_type": "stream",
          "text": [
            "Drive already mounted at /content/drive; to attempt to forcibly remount, call drive.mount(\"/content/drive\", force_remount=True).\n"
          ],
          "name": "stdout"
        }
      ]
    },
    {
      "cell_type": "code",
      "metadata": {
        "id": "Nf0KsD4mt_qa",
        "colab_type": "code",
        "colab": {}
      },
      "source": [
        "#import necessary libraries\n",
        "import pandas as pd\n",
        "import numpy as np\n",
        "import re\n",
        "import warnings\n",
        "warnings.filterwarnings(\"ignore\")\n",
        "import seaborn as sns\n",
        "sns.set(style=\"ticks\",color_codes=True)\n",
        "import matplotlib.pyplot as plt\n",
        "from sklearn.model_selection import train_test_split\n",
        "from sklearn.svm import LinearSVC\n",
        "from sklearn.feature_extraction.text import TfidfVectorizer\n",
        "from sklearn.metrics import classification_report, confusion_matrix, accuracy_score\n",
        "import gzip\n",
        "import matplotlib.pyplot as plt"
      ],
      "execution_count": 0,
      "outputs": []
    },
    {
      "cell_type": "code",
      "metadata": {
        "id": "iuIlWyFquUnc",
        "colab_type": "code",
        "colab": {}
      },
      "source": [
        "!cp \"/content/drive/My Drive/Colab Notebooks/load_data.py\" load_data.py\n",
        "import load_data\n",
        "!cp \"/content/drive/My Drive/Colab Notebooks/data_helper_first.py\" data_helper_first.py\n",
        "import data_helper_first"
      ],
      "execution_count": 0,
      "outputs": []
    },
    {
      "cell_type": "code",
      "metadata": {
        "id": "6DYqy6xIuUr7",
        "colab_type": "code",
        "colab": {}
      },
      "source": [
        "def parse_gz(path):\n",
        "    g = gzip.open(path, 'rb')\n",
        "    for l in g:\n",
        "        yield eval(l)\n",
        "\n",
        "def convert_to_DF(path):\n",
        "    i = 0\n",
        "    df = {}\n",
        "    for d in parse_gz(path):\n",
        "        df[i] = d\n",
        "        i += 1\n",
        "    return pd.DataFrame.from_dict(df, orient='index')"
      ],
      "execution_count": 0,
      "outputs": []
    },
    {
      "cell_type": "code",
      "metadata": {
        "id": "FAV1AUA4uUwm",
        "colab_type": "code",
        "outputId": "b4a95911-c781-47f0-d8a8-799ccb51312c",
        "colab": {
          "base_uri": "https://localhost:8080/",
          "height": 34
        }
      },
      "source": [
        "# #insert path\n",
        "path_df1 = '/content/drive/My Drive/Colab Notebooks/Products_review.csv'\n",
        "path_df2 = '/content/drive/My Drive/Colab Notebooks/Products_reviews.csv'\n",
        "path_df3 = '/content/drive/My Drive/Colab Notebooks/customer_review.csv'\n",
        "path_df4 = '/content/drive/My Drive/Colab Notebooks/reviews_Sports_and_Outdoors_5.json.gz'\n",
        "\n",
        "\n",
        "# Read the data in the CSV file using pandas\n",
        "df1 = pd.read_csv(path_df1)\n",
        "#print(df3)\n",
        "df2 = pd.read_csv(path_df2)\n",
        "\n",
        "df3 = pd.read_csv(path_df3, encoding = 'unicode_escape')\n",
        "#print(df3)\n",
        "\n",
        "!python load_data.py\n",
        "\n",
        "df4 = convert_to_DF(path_df4)\n",
        "# print(df4.columns)\n",
        "df4 = df4.rename(index=str, columns={\"reviewText\": \"review\"})\n",
        "df4 = df4.rename(index=str, columns={\"overall\": \"rating\"})\n",
        "#print(df4.columns)"
      ],
      "execution_count": 8,
      "outputs": [
        {
          "output_type": "stream",
          "text": [
            "Data Succesfully Retrieved!\n"
          ],
          "name": "stdout"
        }
      ]
    },
    {
      "cell_type": "code",
      "metadata": {
        "id": "c0lemKmruVCS",
        "colab_type": "code",
        "colab": {}
      },
      "source": [
        "#concat the dataframes\n",
        "df = pd.concat([df1, df2,df3,df4])\n",
        "#df.drop(columns=['asin', 'asins', 'brand', 'categories', 'date', 'dateAdded','dateUpdated', 'helpful', 'imageURLs', 'keys', 'manufacturer','manufacturerNumber', 'name', 'primaryCategories',  'reviewTime', 'reviewerID', 'reviewerName', 'reviews.date','reviews.dateSeen', 'reviews.didPurchase', 'reviews.doRecommend','reviews.numHelpful', 'reviews.sourceURLs', 'reviews.title','reviews.username', 'sourceURLs', 'summary', 'title', 'unixReviewTime'])\n",
        "\n",
        "# print(df[:5])\n",
        "# print(df.columns)\n",
        "\n",
        "df[\"label\"] = np.where(df.rating >=3, 1, 0)\n",
        "\n",
        "\n",
        "\n",
        "#print(df['label'])\n",
        "\n",
        "\n",
        "#Number of the smaller class (negative reviews)\n",
        "num_to_sample = len(df[df.label == 0])\n",
        "\n",
        "\n",
        "\n",
        "df_neg = df[df[\"label\"] == 0].sample(n=num_to_sample)\n",
        "\n",
        "\n",
        "df_pos = df[df[\"label\"] == 1].sample(n=num_to_sample)"
      ],
      "execution_count": 0,
      "outputs": []
    },
    {
      "cell_type": "code",
      "metadata": {
        "id": "4iTD7CP0uVJ1",
        "colab_type": "code",
        "colab": {}
      },
      "source": [
        "df = pd.concat([df_neg, df_pos])\n",
        "\n",
        "\n",
        "# Get the text from the dataframe\n",
        "text = df[\"review\"].values\n",
        "#print(text)\n",
        "\n",
        "# #clean strings\n",
        "text= [data_helper_first.clean_str(str(sent)) for sent in text]\n",
        "\n",
        "\n",
        "\n",
        "# Create labels from the dataframe\n",
        "labels = df[\"label\"].values\n",
        "\n",
        "\n",
        "df = pd.concat([pd.DataFrame(text),pd.DataFrame(labels)],axis=1)\n",
        "#print(len(df)) 144634\n",
        "#print(df[3000:])\n"
      ],
      "execution_count": 0,
      "outputs": []
    },
    {
      "cell_type": "code",
      "metadata": {
        "id": "tvlKoTP_1MEG",
        "colab_type": "code",
        "colab": {}
      },
      "source": [
        "#print(text[:50])"
      ],
      "execution_count": 0,
      "outputs": []
    },
    {
      "cell_type": "code",
      "metadata": {
        "id": "XtTJYatScW1T",
        "colab_type": "code",
        "colab": {}
      },
      "source": [
        "X = text\n",
        "y = labels"
      ],
      "execution_count": 0,
      "outputs": []
    },
    {
      "cell_type": "code",
      "metadata": {
        "id": "XIsjiHNuVDcS",
        "colab_type": "code",
        "colab": {}
      },
      "source": [
        "#change text lower cases and removal of white spaces\n",
        "lower_text = []\n",
        "for i in range(0,len(X)):\n",
        "  s = str(X[i])\n",
        "  s1 = s.strip()\n",
        "  lower_text.append(s1.lower())\n",
        "  #print(“After converting text to lower case\\n\\n”,lower_text)"
      ],
      "execution_count": 0,
      "outputs": []
    },
    {
      "cell_type": "code",
      "metadata": {
        "id": "KKVYMVdGVVs2",
        "colab_type": "code",
        "colab": {}
      },
      "source": [
        "#Remove punctuation\n",
        "punc_text = []\n",
        "for i in range(0,len(lower_text)):\n",
        "  s2 = (lower_text[i])\n",
        "  s3 = re.sub(r'[^\\w\\s2]',\"\",s2)\n",
        "  punc_text.append(s3)\n",
        "  #print(“After removed punctuation\\n\\n”,punc_text)"
      ],
      "execution_count": 0,
      "outputs": []
    },
    {
      "cell_type": "code",
      "metadata": {
        "id": "EQCIsWhUVV5h",
        "colab_type": "code",
        "colab": {}
      },
      "source": [
        "#Word vectorization\n",
        "#Initialize the TF-IDF vectorizer\n",
        "tfidf = TfidfVectorizer(sublinear_tf=True, min_df=2,max_df = 0.7,max_features =200000,norm='l2', encoding='latin-1',ngram_range=(3,3),stop_words='english')"
      ],
      "execution_count": 0,
      "outputs": []
    },
    {
      "cell_type": "code",
      "metadata": {
        "id": "xlumO9mhWfRO",
        "colab_type": "code",
        "outputId": "e2c7bd93-706e-4b60-87c7-1e4b23be9045",
        "colab": {
          "base_uri": "https://localhost:8080/",
          "height": 67
        }
      },
      "source": [
        "#transform independent variable using TF-IDF vectorizer\n",
        "print(\"\\n\")\n",
        "X_tfidf = tfidf.fit_transform(punc_text)\n",
        "print(X_tfidf.shape)\n",
        "#print(\"After vectorized text data\\n\\n\",X_tfidf)"
      ],
      "execution_count": 16,
      "outputs": [
        {
          "output_type": "stream",
          "text": [
            "\n",
            "\n",
            "(91132, 84887)\n"
          ],
          "name": "stdout"
        }
      ]
    },
    {
      "cell_type": "code",
      "metadata": {
        "id": "Ur-XVrp_dX7w",
        "colab_type": "code",
        "colab": {}
      },
      "source": [
        "#Split the data into train and testing\n",
        "X_train, X_test, Y_train, Y_test = train_test_split(X_tfidf, y, test_size=0.3, random_state = 42)"
      ],
      "execution_count": 0,
      "outputs": []
    },
    {
      "cell_type": "code",
      "metadata": {
        "id": "DaKDMovRWfxe",
        "colab_type": "code",
        "colab": {}
      },
      "source": [
        "# #Print training data\n",
        "# print(\"\\n\")\n",
        "# print(\"Training data\\n\\n\",X_train,\"\\n\",Y_train)\n",
        "# print(\"\\n\\n\")"
      ],
      "execution_count": 0,
      "outputs": []
    },
    {
      "cell_type": "code",
      "metadata": {
        "id": "ECcgbOKxXBHQ",
        "colab_type": "code",
        "colab": {}
      },
      "source": [
        "# #Print testing data\n",
        "# print(\"Testing data\\n\\n\",X_test)\n",
        "# print(\"\\n\\n\")"
      ],
      "execution_count": 0,
      "outputs": []
    },
    {
      "cell_type": "code",
      "metadata": {
        "id": "ROkqlTUBXBXV",
        "colab_type": "code",
        "colab": {}
      },
      "source": [
        "#Build the SVM model\n",
        "clf = LinearSVC()"
      ],
      "execution_count": 0,
      "outputs": []
    },
    {
      "cell_type": "code",
      "metadata": {
        "id": "fzZgK54sXBi9",
        "colab_type": "code",
        "outputId": "d640c467-fc56-4c8a-8216-d8f5f25fa10e",
        "colab": {
          "base_uri": "https://localhost:8080/",
          "height": 84
        }
      },
      "source": [
        "#Fit train and test into the model\n",
        "clf.fit(X_train, Y_train)"
      ],
      "execution_count": 21,
      "outputs": [
        {
          "output_type": "execute_result",
          "data": {
            "text/plain": [
              "LinearSVC(C=1.0, class_weight=None, dual=True, fit_intercept=True,\n",
              "          intercept_scaling=1, loss='squared_hinge', max_iter=1000,\n",
              "          multi_class='ovr', penalty='l2', random_state=None, tol=0.0001,\n",
              "          verbose=0)"
            ]
          },
          "metadata": {
            "tags": []
          },
          "execution_count": 21
        }
      ]
    },
    {
      "cell_type": "code",
      "metadata": {
        "id": "f1nEiveDXBxN",
        "colab_type": "code",
        "colab": {}
      },
      "source": [
        "#Predict the result\n",
        "y_pred = clf.predict(X_test)"
      ],
      "execution_count": 0,
      "outputs": []
    },
    {
      "cell_type": "code",
      "metadata": {
        "id": "cvfhiY8FJOgq",
        "colab_type": "code",
        "colab": {
          "base_uri": "https://localhost:8080/",
          "height": 34
        },
        "outputId": "71a80970-5486-419c-9a1d-83c5c183ff06"
      },
      "source": [
        "clf.score(X_test,Y_test)"
      ],
      "execution_count": 24,
      "outputs": [
        {
          "output_type": "execute_result",
          "data": {
            "text/plain": [
              "0.8117410387710314"
            ]
          },
          "metadata": {
            "tags": []
          },
          "execution_count": 24
        }
      ]
    },
    {
      "cell_type": "code",
      "metadata": {
        "id": "oyEDYqldXCGz",
        "colab_type": "code",
        "outputId": "594f7864-70ab-4fdc-85af-9396cc927278",
        "colab": {
          "base_uri": "https://localhost:8080/",
          "height": 319
        }
      },
      "source": [
        "#classification report & confusion matrix\n",
        "print(\"Confusion Matrix\\n\",confusion_matrix(Y_test,y_pred))\n",
        "print(\"\\n\")\n",
        "print(\"Classification Report\\n\",classification_report(Y_test,y_pred))\n",
        "print(\"\\n\")\n",
        "print(\"Accuracy : \",accuracy_score(Y_test,y_pred)*100)"
      ],
      "execution_count": 25,
      "outputs": [
        {
          "output_type": "stream",
          "text": [
            "Confusion Matrix\n",
            " [[ 9631  4108]\n",
            " [ 1039 12562]]\n",
            "\n",
            "\n",
            "Classification Report\n",
            "               precision    recall  f1-score   support\n",
            "\n",
            "           0       0.90      0.70      0.79     13739\n",
            "           1       0.75      0.92      0.83     13601\n",
            "\n",
            "    accuracy                           0.81     27340\n",
            "   macro avg       0.83      0.81      0.81     27340\n",
            "weighted avg       0.83      0.81      0.81     27340\n",
            "\n",
            "\n",
            "\n",
            "Accuracy :  81.17410387710315\n"
          ],
          "name": "stdout"
        }
      ]
    },
    {
      "cell_type": "code",
      "metadata": {
        "id": "8185pt3rW-GK",
        "colab_type": "code",
        "colab": {}
      },
      "source": [
        "\n",
        "import pickle"
      ],
      "execution_count": 0,
      "outputs": []
    },
    {
      "cell_type": "code",
      "metadata": {
        "id": "Bj2FkIrvW_ah",
        "colab_type": "code",
        "colab": {}
      },
      "source": [
        "\n",
        "with open('/content/drive/My Drive/Colab Notebooks/training_models/svm_trained_model.pkl', 'wb') as f:\n",
        "    pickle.dump(clf, f)"
      ],
      "execution_count": 0,
      "outputs": []
    },
    {
      "cell_type": "code",
      "metadata": {
        "id": "fIgepELRW_m7",
        "colab_type": "code",
        "colab": {}
      },
      "source": [
        ""
      ],
      "execution_count": 0,
      "outputs": []
    },
    {
      "cell_type": "code",
      "metadata": {
        "id": "vtHWMLXRh58L",
        "colab_type": "code",
        "colab": {}
      },
      "source": [
        "# !pip install scikit-plot"
      ],
      "execution_count": 0,
      "outputs": []
    },
    {
      "cell_type": "code",
      "metadata": {
        "id": "5UNOKL0rQOEI",
        "colab_type": "code",
        "colab": {}
      },
      "source": [
        "\n",
        "# #Precision-recall graph\n",
        "# plt.rcParams[\"figure.figsize\"] = [16,10]\n",
        "# import scikitplot as skplt\n",
        "# probas = clf.predict(X_test)\n",
        "# skplt.metrics.plot_precision_recall((Y_test,y_pred),probas)\n",
        "# plt.title(\"Precision & Recall graph for SVM model\")\n",
        "# plt.show()"
      ],
      "execution_count": 0,
      "outputs": []
    },
    {
      "cell_type": "code",
      "metadata": {
        "id": "80atVPzUPQQp",
        "colab_type": "code",
        "outputId": "8a77f247-6b8f-4c01-ca02-e8b461e97bc6",
        "colab": {
          "base_uri": "https://localhost:8080/",
          "height": 34
        }
      },
      "source": [
        "\n",
        "import numpy as np\n",
        "label = {0:'negative', 1:'positive'}\n",
        "\n",
        "example = [\"i hate hate these make my feet hurt\"]\n",
        "Testing = tfidf.transform(example)\n",
        "print(label[clf.predict(Testing)[0]])"
      ],
      "execution_count": 113,
      "outputs": [
        {
          "output_type": "stream",
          "text": [
            "positive\n"
          ],
          "name": "stdout"
        }
      ]
    },
    {
      "cell_type": "code",
      "metadata": {
        "id": "SFvNkIscSQU2",
        "colab_type": "code",
        "colab": {}
      },
      "source": [
        ""
      ],
      "execution_count": 0,
      "outputs": []
    }
  ]
}