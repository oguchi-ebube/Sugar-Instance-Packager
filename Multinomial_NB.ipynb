{
  "nbformat": 4,
  "nbformat_minor": 0,
  "metadata": {
    "colab": {
      "name": "Multinomial_NB.ipynb",
      "provenance": [],
      "collapsed_sections": [],
      "include_colab_link": true
    },
    "kernelspec": {
      "name": "python3",
      "display_name": "Python 3"
    },
    "accelerator": "TPU"
  },
  "cells": [
    {
      "cell_type": "markdown",
      "metadata": {
        "id": "view-in-github",
        "colab_type": "text"
      },
      "source": [
        "<a href=\"https://colab.research.google.com/github/oguchi-ebube/Sugar-Instance-Packager/blob/master/Multinomial_NB.ipynb\" target=\"_parent\"><img src=\"https://colab.research.google.com/assets/colab-badge.svg\" alt=\"Open In Colab\"/></a>"
      ]
    },
    {
      "cell_type": "code",
      "metadata": {
        "id": "0oixZzeOtlF6",
        "colab_type": "code",
        "outputId": "ea8bf813-73cd-4cdd-ec86-b7837a6d5dcb",
        "colab": {
          "base_uri": "https://localhost:8080/",
          "height": 34
        }
      },
      "source": [
        "# Run this cell to mount your Google Drive.\n",
        "from google.colab import drive\n",
        "drive.mount('/content/drive')"
      ],
      "execution_count": 2,
      "outputs": [
        {
          "output_type": "stream",
          "text": [
            "Drive already mounted at /content/drive; to attempt to forcibly remount, call drive.mount(\"/content/drive\", force_remount=True).\n"
          ],
          "name": "stdout"
        }
      ]
    },
    {
      "cell_type": "code",
      "metadata": {
        "id": "CxkG_Rx1uhqg",
        "colab_type": "code",
        "outputId": "35930fa5-03ca-4f9c-af08-678e4b732c57",
        "colab": {
          "base_uri": "https://localhost:8080/",
          "height": 168
        }
      },
      "source": [
        "!pip install chart_studio"
      ],
      "execution_count": 4,
      "outputs": [
        {
          "output_type": "stream",
          "text": [
            "Requirement already satisfied: chart_studio in /usr/local/lib/python3.6/dist-packages (1.0.0)\n",
            "Requirement already satisfied: six in /usr/local/lib/python3.6/dist-packages (from chart_studio) (1.12.0)\n",
            "Requirement already satisfied: requests in /usr/local/lib/python3.6/dist-packages (from chart_studio) (2.21.0)\n",
            "Requirement already satisfied: retrying>=1.3.3 in /usr/local/lib/python3.6/dist-packages (from chart_studio) (1.3.3)\n",
            "Requirement already satisfied: plotly in /usr/local/lib/python3.6/dist-packages (from chart_studio) (4.1.1)\n",
            "Requirement already satisfied: certifi>=2017.4.17 in /usr/local/lib/python3.6/dist-packages (from requests->chart_studio) (2019.9.11)\n",
            "Requirement already satisfied: idna<2.9,>=2.5 in /usr/local/lib/python3.6/dist-packages (from requests->chart_studio) (2.8)\n",
            "Requirement already satisfied: urllib3<1.25,>=1.21.1 in /usr/local/lib/python3.6/dist-packages (from requests->chart_studio) (1.24.3)\n",
            "Requirement already satisfied: chardet<3.1.0,>=3.0.2 in /usr/local/lib/python3.6/dist-packages (from requests->chart_studio) (3.0.4)\n"
          ],
          "name": "stdout"
        }
      ]
    },
    {
      "cell_type": "code",
      "metadata": {
        "id": "Nf0KsD4mt_qa",
        "colab_type": "code",
        "colab": {}
      },
      "source": [
        "#import libraries\n",
        "import warnings\n",
        "warnings.filterwarnings(\"ignore\")\n",
        "import pandas as pd\n",
        "import numpy as np\n",
        "from sklearn.svm import SVC\n",
        "import matplotlib.pyplot as plt\n",
        "import chart_studio.plotly as py\n",
        "import plotly.graph_objs as go\n",
        "import scipy.stats\n",
        "from scipy.stats import ttest_ind,mannwhitneyu,wilcoxon\n",
        "import seaborn as sns\n",
        "sns.set(style=\"ticks\",color_codes=True)\n",
        "from sklearn.model_selection import train_test_split\n",
        "from sklearn import metrics\n",
        "from sklearn.metrics import classification_report,confusion_matrix\n",
        "import gzip"
      ],
      "execution_count": 0,
      "outputs": []
    },
    {
      "cell_type": "code",
      "metadata": {
        "id": "iuIlWyFquUnc",
        "colab_type": "code",
        "colab": {}
      },
      "source": [
        "!cp \"/content/drive/My Drive/Colab Notebooks/load_data.py\" load_data.py\n",
        "import load_data\n",
        "!cp \"/content/drive/My Drive/Colab Notebooks/data_helper_first.py\" data_helper_first.py\n",
        "import data_helper_first"
      ],
      "execution_count": 0,
      "outputs": []
    },
    {
      "cell_type": "code",
      "metadata": {
        "id": "6DYqy6xIuUr7",
        "colab_type": "code",
        "colab": {}
      },
      "source": [
        "def parse_gz(path):\n",
        "    g = gzip.open(path, 'rb')\n",
        "    for l in g:\n",
        "        yield eval(l)\n",
        "\n",
        "def convert_to_DF(path):\n",
        "    i = 0\n",
        "    df = {}\n",
        "    for d in parse_gz(path):\n",
        "        df[i] = d\n",
        "        i += 1\n",
        "    return pd.DataFrame.from_dict(df, orient='index')"
      ],
      "execution_count": 0,
      "outputs": []
    },
    {
      "cell_type": "code",
      "metadata": {
        "id": "FAV1AUA4uUwm",
        "colab_type": "code",
        "outputId": "36c72379-03e7-494d-f10b-31d103ec6ac8",
        "colab": {
          "base_uri": "https://localhost:8080/",
          "height": 34
        }
      },
      "source": [
        "# #insert path\n",
        "path_df1 = '/content/drive/My Drive/Colab Notebooks/Products_review.csv'\n",
        "path_df2 = '/content/drive/My Drive/Colab Notebooks/Products_reviews.csv'\n",
        "path_df3 = '/content/drive/My Drive/Colab Notebooks/customer_review.csv'\n",
        "path_df4 = '/content/drive/My Drive/Colab Notebooks/reviews_Sports_and_Outdoors_5.json.gz'\n",
        "\n",
        "\n",
        "# Read the data in the CSV file using pandas\n",
        "df1 = pd.read_csv(path_df1)\n",
        "#print(df3)\n",
        "df2 = pd.read_csv(path_df2)\n",
        "\n",
        "df3 = pd.read_csv(path_df3, encoding='unicode_escape')\n",
        "#print(df3)\n",
        "\n",
        "!python load_data.py\n",
        "\n",
        "df4 = convert_to_DF(path_df4)\n",
        "# print(df4.columns)\n",
        "df4 = df4.rename(index=str, columns={\"reviewText\": \"review\"})\n",
        "df4 = df4.rename(index=str, columns={\"overall\": \"rating\"})\n",
        "#print(df4.columns)"
      ],
      "execution_count": 8,
      "outputs": [
        {
          "output_type": "stream",
          "text": [
            "Data Succesfully Retrieved!\n"
          ],
          "name": "stdout"
        }
      ]
    },
    {
      "cell_type": "code",
      "metadata": {
        "id": "c0lemKmruVCS",
        "colab_type": "code",
        "colab": {}
      },
      "source": [
        "#concat the dataframes\n",
        "df = pd.concat([df1, df2,df3,df4])\n",
        "#df.drop(columns=['asin', 'asins', 'brand', 'categories', 'date', 'dateAdded','dateUpdated', 'helpful', 'imageURLs', 'keys', 'manufacturer','manufacturerNumber', 'name', 'primaryCategories',  'reviewTime', 'reviewerID', 'reviewerName', 'reviews.date','reviews.dateSeen', 'reviews.didPurchase', 'reviews.doRecommend','reviews.numHelpful', 'reviews.sourceURLs', 'reviews.title','reviews.username', 'sourceURLs', 'summary', 'title', 'unixReviewTime'])\n",
        "\n",
        "# print(df[:5])\n",
        "# print(df.columns)\n",
        "\n",
        "df[\"label\"] = np.where(df.rating >=3, 1, 0)\n",
        "\n",
        "\n",
        "\n",
        "#print(df['label'])\n",
        "\n",
        "\n",
        "#Number of the smaller class (negative reviews)\n",
        "num_to_sample = len(df[df.label == 0])\n",
        "\n",
        "\n",
        "\n",
        "df_neg = df[df[\"label\"] == 0].sample(n=num_to_sample)\n",
        "\n",
        "\n",
        "df_pos = df[df[\"label\"] == 1].sample(n=num_to_sample)"
      ],
      "execution_count": 0,
      "outputs": []
    },
    {
      "cell_type": "code",
      "metadata": {
        "id": "4iTD7CP0uVJ1",
        "colab_type": "code",
        "colab": {}
      },
      "source": [
        "df = pd.concat([df_neg, df_pos])\n",
        "\n",
        "\n",
        "# Get the text from the dataframe\n",
        "text = df[\"review\"].values\n",
        "#print(text)\n",
        "\n",
        "# #clean strings\n",
        "text= [data_helper_first.clean_str(str(sent)) for sent in text]\n",
        "\n",
        "\n",
        "\n",
        "# Create labels from the dataframe\n",
        "labels = df[\"label\"].values\n",
        "\n",
        "\n",
        "df = pd.concat([pd.DataFrame(text),pd.DataFrame(labels)],axis=1)\n",
        "#print(len(df)) 144634\n",
        "#print(df[3000:])"
      ],
      "execution_count": 0,
      "outputs": []
    },
    {
      "cell_type": "code",
      "metadata": {
        "id": "asQRMvofvXKJ",
        "colab_type": "code",
        "outputId": "23f439b1-938e-45b9-ebfd-452e803200bc",
        "colab": {
          "base_uri": "https://localhost:8080/",
          "height": 252
        }
      },
      "source": [
        "X = text\n",
        "y = labels\n",
        "\n",
        "print(df[600:])"
      ],
      "execution_count": 11,
      "outputs": [
        {
          "output_type": "stream",
          "text": [
            "                                                       0  0\n",
            "600    the 10 and 20 codes have been unavailable for ...  0\n",
            "601    i recently had surgery and am at the point tha...  0\n",
            "602    i usually buy the 10 code for everything runni...  0\n",
            "603    the power switch is good , the size is good , ...  0\n",
            "604    this is the second one i own it is a bargain b...  0\n",
            "...                                                  ... ..\n",
            "91127  this is my goto knife that i always carry with...  1\n",
            "91128  amazon wants to know what i think about this i...  1\n",
            "91129  i originally became acquainted with concept2 a...  1\n",
            "91130  we were looking for some back yard fun that wo...  1\n",
            "91131  bought this watch 2 month ago did n't notice a...  1\n",
            "\n",
            "[90532 rows x 2 columns]\n"
          ],
          "name": "stdout"
        }
      ]
    },
    {
      "cell_type": "code",
      "metadata": {
        "id": "M2ljguwdVLNf",
        "colab_type": "code",
        "colab": {}
      },
      "source": [
        "X_train, X_test, y_train, y_test = train_test_split(X, y, test_size=0.20)"
      ],
      "execution_count": 0,
      "outputs": []
    },
    {
      "cell_type": "code",
      "metadata": {
        "id": "XIsjiHNuVDcS",
        "colab_type": "code",
        "colab": {}
      },
      "source": [
        "#change text lower cases and removal of white spaces\n",
        "lower_text = []\n",
        "for i in range(0,len(X)):\n",
        "  s = str(X[i])\n",
        "  s1 = s.strip()\n",
        "  lower_text.append(s1.lower())\n",
        "  #print(“After converting text to lower case\\n\\n”,lower_text)"
      ],
      "execution_count": 0,
      "outputs": []
    },
    {
      "cell_type": "code",
      "metadata": {
        "id": "REJVhBF2wTBI",
        "colab_type": "code",
        "colab": {}
      },
      "source": [
        "import re"
      ],
      "execution_count": 0,
      "outputs": []
    },
    {
      "cell_type": "code",
      "metadata": {
        "id": "KKVYMVdGVVs2",
        "colab_type": "code",
        "colab": {}
      },
      "source": [
        "#Remove punctuation\n",
        "punc_text = []\n",
        "for i in range(0,len(lower_text)):\n",
        "  s2 = (lower_text[i])\n",
        "  s3 = re.sub(r'[^\\w\\s2]',\"\",s2)\n",
        "  punc_text.append(s3)\n",
        "  # print(\"After removed punctuation\\n\\n\",punc_text[:50])"
      ],
      "execution_count": 0,
      "outputs": []
    },
    {
      "cell_type": "code",
      "metadata": {
        "id": "iSBlD3YaxHrZ",
        "colab_type": "code",
        "colab": {}
      },
      "source": [
        "from sklearn.feature_extraction.text import TfidfVectorizer"
      ],
      "execution_count": 0,
      "outputs": []
    },
    {
      "cell_type": "code",
      "metadata": {
        "id": "EQCIsWhUVV5h",
        "colab_type": "code",
        "colab": {}
      },
      "source": [
        "#Word vectorization\n",
        "#Initialize the TF-IDF vectorizer\n",
        "tfidf = TfidfVectorizer(sublinear_tf=True, min_df=5,max_df = 0.7,norm='l2', encoding='latin-1', ngram_range=(1, 2),stop_words='english')"
      ],
      "execution_count": 0,
      "outputs": []
    },
    {
      "cell_type": "code",
      "metadata": {
        "id": "xlumO9mhWfRO",
        "colab_type": "code",
        "outputId": "b3b810ab-6d6c-4cde-fe43-e25329b26c96",
        "colab": {
          "base_uri": "https://localhost:8080/",
          "height": 941
        }
      },
      "source": [
        "#transform independent variable using TF-IDF vectorizer\n",
        "print(\"\\n\")\n",
        "X_tfidf = tfidf.fit_transform(punc_text)\n",
        "print(\"After vectorized text data\\n\\n\",X_tfidf)"
      ],
      "execution_count": 18,
      "outputs": [
        {
          "output_type": "stream",
          "text": [
            "\n",
            "\n",
            "After vectorized text data\n",
            "\n",
            "   (0, 73223)\t0.20488795530960577\n",
            "  (0, 41065)\t0.27700555210200056\n",
            "  (0, 39195)\t0.2467207510781826\n",
            "  (0, 2190)\t0.2627509531217028\n",
            "  (0, 51372)\t0.27347410718435117\n",
            "  (0, 38859)\t0.2329718377146541\n",
            "  (0, 39216)\t0.2810823060707014\n",
            "  (0, 72705)\t0.2627509531217028\n",
            "  (0, 71212)\t0.199536006550559\n",
            "  (0, 50090)\t0.26757272965277223\n",
            "  (0, 69552)\t0.07866121219166562\n",
            "  (0, 36594)\t0.17599873978597042\n",
            "  (0, 47725)\t0.14314129205315726\n",
            "  (0, 52506)\t0.09076797056900891\n",
            "  (0, 41053)\t0.16411320984462158\n",
            "  (0, 39175)\t0.15262545043308065\n",
            "  (0, 2145)\t0.11648166017543675\n",
            "  (0, 51371)\t0.15135470160618467\n",
            "  (0, 38637)\t0.09027381162106451\n",
            "  (0, 39212)\t0.18150922378530784\n",
            "  (0, 6427)\t0.16885049252748643\n",
            "  (0, 72629)\t0.11566348098728918\n",
            "  (0, 71103)\t0.11487218350458195\n",
            "  (0, 49981)\t0.11680680878799281\n",
            "  (0, 6445)\t0.31692641392051796\n",
            "  :\t:\n",
            "  (91131, 2447)\t0.11703602441361614\n",
            "  (91131, 14586)\t0.12435794922281833\n",
            "  (91131, 16032)\t0.15400930299058735\n",
            "  (91131, 21013)\t0.12100103252576491\n",
            "  (91131, 76703)\t0.10035496533247056\n",
            "  (91131, 2459)\t0.1041594232599332\n",
            "  (91131, 5758)\t0.11346177061048004\n",
            "  (91131, 77490)\t0.08959945702001301\n",
            "  (91131, 22161)\t0.07771374401026251\n",
            "  (91131, 60115)\t0.15993633895122805\n",
            "  (91131, 43361)\t0.07833559770727977\n",
            "  (91131, 26168)\t0.053910866756045624\n",
            "  (91131, 51792)\t0.0658316417865335\n",
            "  (91131, 44759)\t0.0822590466693522\n",
            "  (91131, 10914)\t0.0607545371288479\n",
            "  (91131, 10913)\t0.06068830302169123\n",
            "  (91131, 16419)\t0.06796385947295461\n",
            "  (91131, 14738)\t0.12628628282519092\n",
            "  (91131, 9046)\t0.058569206194559825\n",
            "  (91131, 3225)\t0.07598529070456407\n",
            "  (91131, 75800)\t0.26240478280735097\n",
            "  (91131, 17748)\t0.13272756893183327\n",
            "  (91131, 17620)\t0.09757713314647742\n",
            "  (91131, 45592)\t0.0771891934764857\n",
            "  (91131, 69552)\t0.11959695280736544\n"
          ],
          "name": "stdout"
        }
      ]
    },
    {
      "cell_type": "code",
      "metadata": {
        "id": "efvNxTUzWfjM",
        "colab_type": "code",
        "colab": {}
      },
      "source": [
        "#Split the data into train and testing\n",
        "X_train, X_test, Y_train, Y_test = train_test_split(X_tfidf, y, test_size=0.3, random_state = 42)"
      ],
      "execution_count": 0,
      "outputs": []
    },
    {
      "cell_type": "code",
      "metadata": {
        "id": "DaKDMovRWfxe",
        "colab_type": "code",
        "outputId": "c45fd854-3998-47b1-b373-24d0f8fd787b",
        "colab": {
          "base_uri": "https://localhost:8080/",
          "height": 1000
        }
      },
      "source": [
        "#Print training data\n",
        "print(\"\\n\")\n",
        "print(\"Training data\\n\\n\",X_train,\"\\n\",Y_train)\n",
        "print(\"\\n\\n\")"
      ],
      "execution_count": 20,
      "outputs": [
        {
          "output_type": "stream",
          "text": [
            "\n",
            "\n",
            "Training data\n",
            "\n",
            "   (0, 8745)\t0.2621132479319096\n",
            "  (0, 70538)\t0.25501849426743817\n",
            "  (0, 36344)\t0.25501849426743817\n",
            "  (0, 5948)\t0.25501849426743817\n",
            "  (0, 56543)\t0.2583116168769591\n",
            "  (0, 19771)\t0.24501900060052614\n",
            "  (0, 62891)\t0.2153268811277455\n",
            "  (0, 16307)\t0.16498674249919792\n",
            "  (0, 20539)\t0.21354332445914204\n",
            "  (0, 71617)\t0.2216129792036079\n",
            "  (0, 62)\t0.20838674731679482\n",
            "  (0, 55846)\t0.19560344734054047\n",
            "  (0, 62125)\t0.1686951341771022\n",
            "  (0, 15208)\t0.12006252678525249\n",
            "  (0, 56491)\t0.12989420864733797\n",
            "  (0, 8743)\t0.1438744813203322\n",
            "  (0, 61904)\t0.17229594782674115\n",
            "  (0, 76454)\t0.1408980335726429\n",
            "  (0, 36291)\t0.13448338464617862\n",
            "  (0, 65662)\t0.16211761519009776\n",
            "  (0, 10161)\t0.13377314943911786\n",
            "  (0, 49604)\t0.15050867356068517\n",
            "  (0, 5923)\t0.13114091813041845\n",
            "  (0, 71571)\t0.12306135251513753\n",
            "  (0, 56620)\t0.1293786124634338\n",
            "  :\t:\n",
            "  (63790, 31334)\t0.20057161064884388\n",
            "  (63790, 57543)\t0.16910171196464405\n",
            "  (63790, 2284)\t0.19215790781978714\n",
            "  (63790, 72035)\t0.20499687570897399\n",
            "  (63790, 13685)\t0.12705818976492322\n",
            "  (63790, 631)\t0.15915471390826022\n",
            "  (63790, 41)\t0.12758650828415233\n",
            "  (63790, 41231)\t0.13968657837643864\n",
            "  (63790, 76758)\t0.19223379927705034\n",
            "  (63791, 38197)\t0.3197832413040966\n",
            "  (63791, 7254)\t0.33653244847652014\n",
            "  (63791, 51042)\t0.3015626129176486\n",
            "  (63791, 9090)\t0.3349289102735785\n",
            "  (63791, 12519)\t0.33653244847652014\n",
            "  (63791, 45542)\t0.25233983777312635\n",
            "  (63791, 62961)\t0.2661028410387461\n",
            "  (63791, 67274)\t0.21673987842415995\n",
            "  (63791, 14981)\t0.19856216934051835\n",
            "  (63791, 77497)\t0.3009459539740218\n",
            "  (63791, 12493)\t0.15127499839374087\n",
            "  (63791, 77490)\t0.16869389912851074\n",
            "  (63791, 60604)\t0.26616637264073756\n",
            "  (63791, 6996)\t0.11172451078341558\n",
            "  (63791, 9046)\t0.11027151380632984\n",
            "  (63791, 37605)\t0.09913100273417239 \n",
            " [0 1 0 ... 1 0 0]\n",
            "\n",
            "\n",
            "\n"
          ],
          "name": "stdout"
        }
      ]
    },
    {
      "cell_type": "code",
      "metadata": {
        "id": "ECcgbOKxXBHQ",
        "colab_type": "code",
        "outputId": "059c08a7-d45d-44b4-fb74-1b3f89d52ec9",
        "colab": {
          "base_uri": "https://localhost:8080/",
          "height": 958
        }
      },
      "source": [
        "#Print testing data\n",
        "print(\"Testing data\\n\\n\",X_test)\n",
        "print(\"\\n\\n\")"
      ],
      "execution_count": 21,
      "outputs": [
        {
          "output_type": "stream",
          "text": [
            "Testing data\n",
            "\n",
            "   (0, 2607)\t0.22708671344507142\n",
            "  (0, 51740)\t0.2105665841889673\n",
            "  (0, 30432)\t0.19837620902792485\n",
            "  (0, 49481)\t0.216172311355276\n",
            "  (0, 19005)\t0.21413589505735037\n",
            "  (0, 21745)\t0.18014037519792403\n",
            "  (0, 35782)\t0.17936333686415132\n",
            "  (0, 20076)\t0.18356628821724735\n",
            "  (0, 52752)\t0.16572983422670431\n",
            "  (0, 20413)\t0.1850072520644142\n",
            "  (0, 58060)\t0.15859836994608553\n",
            "  (0, 26558)\t0.13345945898899236\n",
            "  (0, 11421)\t0.13845092046100088\n",
            "  (0, 62480)\t0.20136239054459854\n",
            "  (0, 62474)\t0.1406396911299062\n",
            "  (0, 20406)\t0.14731187460644507\n",
            "  (0, 56057)\t0.21887183128887208\n",
            "  (0, 9949)\t0.1454385895083515\n",
            "  (0, 2598)\t0.12781951852584628\n",
            "  (0, 61957)\t0.10377295210510014\n",
            "  (0, 78254)\t0.077506435883942\n",
            "  (0, 48365)\t0.1610428843124217\n",
            "  (0, 77398)\t0.15032360868663014\n",
            "  (0, 42052)\t0.09739457571746418\n",
            "  (0, 4262)\t0.11248617985437552\n",
            "  :\t:\n",
            "  (27339, 56365)\t0.07041064629777133\n",
            "  (27339, 22047)\t0.06636904952144532\n",
            "  (27339, 51502)\t0.07051225294299394\n",
            "  (27339, 43390)\t0.06269736719699623\n",
            "  (27339, 21050)\t0.06365033137041516\n",
            "  (27339, 11526)\t0.08626965441463762\n",
            "  (27339, 53611)\t0.05974117397522668\n",
            "  (27339, 10560)\t0.06794854349080297\n",
            "  (27339, 71448)\t0.05355373260756249\n",
            "  (27339, 13685)\t0.07410952201072905\n",
            "  (27339, 56172)\t0.06822356569590772\n",
            "  (27339, 22520)\t0.059463917463015104\n",
            "  (27339, 73528)\t0.050998039987419544\n",
            "  (27339, 9046)\t0.050205379822373435\n",
            "  (27339, 3225)\t0.06513440472564307\n",
            "  (27339, 41231)\t0.048120631307511506\n",
            "  (27339, 59133)\t0.0638982810019143\n",
            "  (27339, 33945)\t0.03822666913225657\n",
            "  (27339, 17620)\t0.04940083180084856\n",
            "  (27339, 45592)\t0.053382624597599904\n",
            "  (27339, 75295)\t0.049133250510622596\n",
            "  (27339, 31825)\t0.08787617123483465\n",
            "  (27339, 76130)\t0.04462269568826633\n",
            "  (27339, 69552)\t0.04885047848601135\n",
            "  (27339, 72629)\t0.08903114232387309\n",
            "\n",
            "\n",
            "\n"
          ],
          "name": "stdout"
        }
      ]
    },
    {
      "cell_type": "code",
      "metadata": {
        "id": "I-BSPQnTyAg6",
        "colab_type": "code",
        "colab": {}
      },
      "source": [
        "from sklearn.naive_bayes import MultinomialNB\n",
        "from sklearn.metrics import classification_report, confusion_matrix, accuracy_score"
      ],
      "execution_count": 0,
      "outputs": []
    },
    {
      "cell_type": "code",
      "metadata": {
        "id": "ROkqlTUBXBXV",
        "colab_type": "code",
        "colab": {}
      },
      "source": [
        "#Build the Naive_bayes model\n",
        "clf = MultinomialNB()"
      ],
      "execution_count": 0,
      "outputs": []
    },
    {
      "cell_type": "code",
      "metadata": {
        "id": "fzZgK54sXBi9",
        "colab_type": "code",
        "outputId": "d906dff7-ec8d-403b-b26c-91b7ef5296fc",
        "colab": {
          "base_uri": "https://localhost:8080/",
          "height": 34
        }
      },
      "source": [
        "#Fit train and test into the model\n",
        "clf.fit(X_train, Y_train)"
      ],
      "execution_count": 24,
      "outputs": [
        {
          "output_type": "execute_result",
          "data": {
            "text/plain": [
              "MultinomialNB(alpha=1.0, class_prior=None, fit_prior=True)"
            ]
          },
          "metadata": {
            "tags": []
          },
          "execution_count": 24
        }
      ]
    },
    {
      "cell_type": "code",
      "metadata": {
        "id": "f1nEiveDXBxN",
        "colab_type": "code",
        "colab": {}
      },
      "source": [
        "#Predict the result\n",
        "y_pred = clf.predict(X_test)"
      ],
      "execution_count": 0,
      "outputs": []
    },
    {
      "cell_type": "code",
      "metadata": {
        "id": "uyxuf7uRyR1g",
        "colab_type": "code",
        "colab": {}
      },
      "source": [
        "# print(y_pred[:100])"
      ],
      "execution_count": 0,
      "outputs": []
    },
    {
      "cell_type": "code",
      "metadata": {
        "id": "oyEDYqldXCGz",
        "colab_type": "code",
        "outputId": "fdc78deb-935a-4617-c396-0b2daa718ecf",
        "colab": {
          "base_uri": "https://localhost:8080/",
          "height": 319
        }
      },
      "source": [
        "#classification report & confusion matrix\n",
        "print(\"Confusion Matrix\\n\",confusion_matrix(Y_test,y_pred))\n",
        "print(\"\\n\")\n",
        "print(\"Classification Report\\n\",classification_report(Y_test,y_pred))\n",
        "print(\"\\n\")\n",
        "print(\"Accuracy : \",accuracy_score(Y_test,y_pred)*100)"
      ],
      "execution_count": 27,
      "outputs": [
        {
          "output_type": "stream",
          "text": [
            "Confusion Matrix\n",
            " [[ 8007  5732]\n",
            " [   30 13571]]\n",
            "\n",
            "\n",
            "Classification Report\n",
            "               precision    recall  f1-score   support\n",
            "\n",
            "           0       1.00      0.58      0.74     13739\n",
            "           1       0.70      1.00      0.82     13601\n",
            "\n",
            "    accuracy                           0.79     27340\n",
            "   macro avg       0.85      0.79      0.78     27340\n",
            "weighted avg       0.85      0.79      0.78     27340\n",
            "\n",
            "\n",
            "\n",
            "Accuracy :  78.92465252377468\n"
          ],
          "name": "stdout"
        }
      ]
    },
    {
      "cell_type": "code",
      "metadata": {
        "id": "S3ANz5HTPiU-",
        "colab_type": "code",
        "colab": {}
      },
      "source": [
        "import pickle"
      ],
      "execution_count": 0,
      "outputs": []
    },
    {
      "cell_type": "code",
      "metadata": {
        "id": "x-8M0clauVHW",
        "colab_type": "code",
        "colab": {}
      },
      "source": [
        "\n",
        "with open('/content/drive/My Drive/Colab Notebooks/training_models/mnb_trained_model.pkl', 'wb') as f:\n",
        "    pickle.dump(clf, f)"
      ],
      "execution_count": 0,
      "outputs": []
    },
    {
      "cell_type": "code",
      "metadata": {
        "id": "_iLIuEXguU-z",
        "colab_type": "code",
        "colab": {}
      },
      "source": [
        ""
      ],
      "execution_count": 0,
      "outputs": []
    },
    {
      "cell_type": "code",
      "metadata": {
        "id": "YHHJkNi4uU63",
        "colab_type": "code",
        "colab": {}
      },
      "source": [
        ""
      ],
      "execution_count": 0,
      "outputs": []
    },
    {
      "cell_type": "code",
      "metadata": {
        "id": "xGTd8UWDuU2x",
        "colab_type": "code",
        "colab": {}
      },
      "source": [
        ""
      ],
      "execution_count": 0,
      "outputs": []
    }
  ]
}